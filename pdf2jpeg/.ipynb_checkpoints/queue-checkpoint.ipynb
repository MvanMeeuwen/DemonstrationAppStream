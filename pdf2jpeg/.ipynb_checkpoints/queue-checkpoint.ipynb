{
 "cells": [
  {
   "cell_type": "code",
   "execution_count": 17,
   "metadata": {},
   "outputs": [],
   "source": [
    "import boto3\n",
    "import json\n",
    "client = boto3.client('sqs')"
   ]
  },
  {
   "cell_type": "code",
   "execution_count": 18,
   "metadata": {},
   "outputs": [],
   "source": [
    "response = client.list_queues()\n",
    "queues = response['QueueUrls']"
   ]
  },
  {
   "cell_type": "code",
   "execution_count": 10,
   "metadata": {},
   "outputs": [
    {
     "ename": "TypeError",
     "evalue": "receive_message() only accepts keyword arguments.",
     "output_type": "error",
     "traceback": [
      "\u001b[0;31m---------------------------------------------------------------------------\u001b[0m",
      "\u001b[0;31mTypeError\u001b[0m                                 Traceback (most recent call last)",
      "\u001b[0;32m<ipython-input-10-8dd573cb06cf>\u001b[0m in \u001b[0;36m<module>\u001b[0;34m\u001b[0m\n\u001b[1;32m      1\u001b[0m \u001b[0;32mfor\u001b[0m \u001b[0mqueue\u001b[0m \u001b[0;32min\u001b[0m \u001b[0mqueues\u001b[0m\u001b[0;34m:\u001b[0m\u001b[0;34m\u001b[0m\u001b[0;34m\u001b[0m\u001b[0m\n\u001b[0;32m----> 2\u001b[0;31m     \u001b[0mclient\u001b[0m\u001b[0;34m.\u001b[0m\u001b[0mreceive_message\u001b[0m\u001b[0;34m(\u001b[0m\u001b[0mqueue\u001b[0m\u001b[0;34m,\u001b[0m \u001b[0mAttributeNames\u001b[0m \u001b[0;34m=\u001b[0m \u001b[0;34m[\u001b[0m\u001b[0;34m'All'\u001b[0m\u001b[0;34m]\u001b[0m\u001b[0;34m)\u001b[0m\u001b[0;34m\u001b[0m\u001b[0;34m\u001b[0m\u001b[0m\n\u001b[0m",
      "\u001b[0;32m~/Library/Python/3.7/lib/python/site-packages/botocore/client.py\u001b[0m in \u001b[0;36m_api_call\u001b[0;34m(self, *args, **kwargs)\u001b[0m\n\u001b[1;32m    272\u001b[0m             \u001b[0;32mif\u001b[0m \u001b[0margs\u001b[0m\u001b[0;34m:\u001b[0m\u001b[0;34m\u001b[0m\u001b[0;34m\u001b[0m\u001b[0m\n\u001b[1;32m    273\u001b[0m                 raise TypeError(\n\u001b[0;32m--> 274\u001b[0;31m                     \"%s() only accepts keyword arguments.\" % py_operation_name)\n\u001b[0m\u001b[1;32m    275\u001b[0m             \u001b[0;31m# The \"self\" in this scope is referring to the BaseClient.\u001b[0m\u001b[0;34m\u001b[0m\u001b[0;34m\u001b[0m\u001b[0;34m\u001b[0m\u001b[0m\n\u001b[1;32m    276\u001b[0m             \u001b[0;32mreturn\u001b[0m \u001b[0mself\u001b[0m\u001b[0;34m.\u001b[0m\u001b[0m_make_api_call\u001b[0m\u001b[0;34m(\u001b[0m\u001b[0moperation_name\u001b[0m\u001b[0;34m,\u001b[0m \u001b[0mkwargs\u001b[0m\u001b[0;34m)\u001b[0m\u001b[0;34m\u001b[0m\u001b[0;34m\u001b[0m\u001b[0m\n",
      "\u001b[0;31mTypeError\u001b[0m: receive_message() only accepts keyword arguments."
     ]
    }
   ],
   "source": [
    "for queue in queues: \n",
    "    client.receive_message(queue, \n",
    "                           AttributeNames = ['All'],\n",
    "                           MessageAttributeNames = [''])"
   ]
  },
  {
   "cell_type": "code",
   "execution_count": 19,
   "metadata": {},
   "outputs": [],
   "source": [
    "sqs = boto3.resource('sqs')\n",
    "queue_name = 'TextractPipelineStack-AsyncJobsE9347181-32TIZOY3ZZ9B'\n",
    "queue = sqs.get_queue_by_name(QueueName=queue_name)"
   ]
  },
  {
   "cell_type": "code",
   "execution_count": 25,
   "metadata": {},
   "outputs": [],
   "source": [
    "max_queue_messages = 10\n",
    "message_bodies = []\n",
    "queue = sqs.get_queue_by_name(QueueName=queue_name)\n",
    "while True:\n",
    "    messages_to_delete = []\n",
    "    for message in queue.receive_messages(\n",
    "            MaxNumberOfMessages=max_queue_messages):\n",
    "        # process message body\n",
    "        body = json.loads(message.body)\n",
    "        message_bodies.append(body)"
   ]
  },
  {
   "cell_type": "code",
   "execution_count": 23,
   "metadata": {},
   "outputs": [
    {
     "data": {
      "text/plain": [
       "[{'documentId': 'f720de98-7f0f-11ea-8dc4-5e4effa9478b',\n",
       "  'features': ['Text', 'Forms', 'Tables'],\n",
       "  'bucketName': 'textractpipelinestack-documentsbucket9ec9deb9-1adc6crt86qxu',\n",
       "  'objectName': 'public/Jeroen_Taxology_e13c009c-3ba4-4cb0-862b-ee6bc1e5f81d.pdf'},\n",
       " {'documentId': 'f7222bd6-7f0f-11ea-9041-56dfd2c0653d',\n",
       "  'features': ['Text', 'Forms', 'Tables'],\n",
       "  'bucketName': 'textractpipelinestack-documentsbucket9ec9deb9-1adc6crt86qxu',\n",
       "  'objectName': 'public/Jeroen_Taxology_19f1e793-ae96-447d-a2e0-13b2a5c35a7b.pdf'},\n",
       " {'documentId': 'f72725be-7f0f-11ea-abec-52a383bfb94f',\n",
       "  'features': ['Text', 'Forms', 'Tables'],\n",
       "  'bucketName': 'textractpipelinestack-documentsbucket9ec9deb9-1adc6crt86qxu',\n",
       "  'objectName': 'public/Jeroen_Taxology_8dd0d3b2-ab10-40ab-9af8-b23af60fc842.pdf'},\n",
       " {'documentId': 'f7271510-7f0f-11ea-8f53-ae6630b05962',\n",
       "  'features': ['Text', 'Forms', 'Tables'],\n",
       "  'bucketName': 'textractpipelinestack-documentsbucket9ec9deb9-1adc6crt86qxu',\n",
       "  'objectName': 'public/Jeroen_Taxology_3e8ae524-d722-40da-b0ab-767d36b12a1e.pdf'},\n",
       " {'documentId': 'f725c142-7f0f-11ea-ae33-96f680845230',\n",
       "  'features': ['Text', 'Forms', 'Tables'],\n",
       "  'bucketName': 'textractpipelinestack-documentsbucket9ec9deb9-1adc6crt86qxu',\n",
       "  'objectName': 'public/Jeroen_Taxology_ed4d6445-7940-4623-a7a5-53232af00578.pdf'},\n",
       " {'documentId': 'f7271510-7f0f-11ea-8f53-ae6630b05962',\n",
       "  'features': ['Text', 'Forms', 'Tables'],\n",
       "  'bucketName': 'textractpipelinestack-documentsbucket9ec9deb9-1adc6crt86qxu',\n",
       "  'objectName': 'public/Jeroen_Taxology_3e8ae524-d722-40da-b0ab-767d36b12a1e.pdf'},\n",
       " {'documentId': 'f7264144-7f0f-11ea-b864-06e28c79e33b',\n",
       "  'features': ['Text', 'Forms', 'Tables'],\n",
       "  'bucketName': 'textractpipelinestack-documentsbucket9ec9deb9-1adc6crt86qxu',\n",
       "  'objectName': 'public/Jeroen_Taxology_ef3b4b00-52c9-48d2-adf7-60c8118151ae.pdf'},\n",
       " {'documentId': 'f725c142-7f0f-11ea-ae33-96f680845230',\n",
       "  'features': ['Text', 'Forms', 'Tables'],\n",
       "  'bucketName': 'textractpipelinestack-documentsbucket9ec9deb9-1adc6crt86qxu',\n",
       "  'objectName': 'public/Jeroen_Taxology_ed4d6445-7940-4623-a7a5-53232af00578.pdf'},\n",
       " {'documentId': 'f720de98-7f0f-11ea-8dc4-5e4effa9478b',\n",
       "  'features': ['Text', 'Forms', 'Tables'],\n",
       "  'bucketName': 'textractpipelinestack-documentsbucket9ec9deb9-1adc6crt86qxu',\n",
       "  'objectName': 'public/Jeroen_Taxology_e13c009c-3ba4-4cb0-862b-ee6bc1e5f81d.pdf'},\n",
       " {'documentId': 'f7222bd6-7f0f-11ea-9041-56dfd2c0653d',\n",
       "  'features': ['Text', 'Forms', 'Tables'],\n",
       "  'bucketName': 'textractpipelinestack-documentsbucket9ec9deb9-1adc6crt86qxu',\n",
       "  'objectName': 'public/Jeroen_Taxology_19f1e793-ae96-447d-a2e0-13b2a5c35a7b.pdf'}]"
      ]
     },
     "execution_count": 23,
     "metadata": {},
     "output_type": "execute_result"
    }
   ],
   "source": [
    "message_bodies"
   ]
  },
  {
   "cell_type": "code",
   "execution_count": null,
   "metadata": {},
   "outputs": [],
   "source": []
  }
 ],
 "metadata": {
  "kernelspec": {
   "display_name": "Python 3",
   "language": "python",
   "name": "python3"
  },
  "language_info": {
   "codemirror_mode": {
    "name": "ipython",
    "version": 3
   },
   "file_extension": ".py",
   "mimetype": "text/x-python",
   "name": "python",
   "nbconvert_exporter": "python",
   "pygments_lexer": "ipython3",
   "version": "3.7.4"
  }
 },
 "nbformat": 4,
 "nbformat_minor": 2
}
